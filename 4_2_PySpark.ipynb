{
 "cells": [
  {
   "cell_type": "code",
   "id": "initial_id",
   "metadata": {
    "collapsed": true,
    "ExecuteTime": {
     "end_time": "2025-08-10T14:18:55.361917Z",
     "start_time": "2025-08-10T14:18:48.012989Z"
    },
    "id": "initial_id"
   },
   "source": [
    "from pyspark.sql import SparkSession\n",
    "from sklearn import datasets\n",
    "import time\n",
    "\n",
    "#1.2 Initialize a SparkSession\n",
    "spark = SparkSession.builder \\\n",
    "    .appName(\"SimModeExample\") \\\n",
    "    .master(\"local[*]\") \\\n",
    "    .getOrCreate()\n",
    "sc = spark.sparkContext"
   ],
   "outputs": [],
   "execution_count": 1
  }
 ],
 "metadata": {
  "kernelspec": {
   "display_name": "Python [conda env:Torch]",
   "language": "python",
   "name": "conda-env-Torch-py"
  },
  "language_info": {
   "codemirror_mode": {
    "name": "ipython",
    "version": 2
   },
   "file_extension": ".py",
   "mimetype": "text/x-python",
   "name": "python",
   "nbconvert_exporter": "python",
   "pygments_lexer": "ipython2",
   "version": "2.7.6"
  },
  "colab": {
   "provenance": []
  }
 },
 "nbformat": 4,
 "nbformat_minor": 5
}
