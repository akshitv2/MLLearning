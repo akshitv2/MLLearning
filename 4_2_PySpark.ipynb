{
  "cells": [
    {
      "cell_type": "code",
      "id": "initial_id",
      "metadata": {
        "collapsed": true,
        "ExecuteTime": {
          "end_time": "2025-08-10T14:18:55.361917Z",
          "start_time": "2025-08-10T14:18:48.012989Z"
        },
        "id": "initial_id"
      },
      "source": [
        "from pyspark.sql import SparkSession\n",
        "from pyspark.sql import SparkSession\n",
        "from pyspark.sql.functions import col, udf, row_number, window\n",
        "from pyspark.ml.feature import VectorAssembler, StringIndexer, StandardScaler\n",
        "from pyspark.sql.types import IntegerType\n",
        "from pyspark.ml import Pipeline\n",
        "from pyspark.ml.regression import LinearRegression\n",
        "from pyspark.ml.evaluation import RegressionEvaluator\n",
        "import numpy as np\n",
        "\n",
        "#1.2 Initialize a SparkSession\n",
        "spark = SparkSession.builder \\\n",
        "    .appName(\"SimModeExample\") \\\n",
        "    .master(\"local[*]\") \\\n",
        "    .getOrCreate()\n",
        "sc = spark.sparkContext"
      ],
      "outputs": [],
      "execution_count": 70
    },
    {
      "cell_type": "code",
      "source": [
        "from sklearn.datasets import load_diabetes\n",
        "diabetes = load_diabetes()\n",
        "X,y = diabetes.data, diabetes.target\n",
        "\n",
        "zero_col = np.zeros((X.shape[0], 1))\n",
        "X = np.hstack((X, zero_col))\n",
        "for i in range(0,len(X)):\n",
        "    X[i][-1] = y[i]\n",
        "column_names = diabetes.feature_names\n",
        "column_names.append('label')\n",
        "df = spark.createDataFrame(X, column_names)\n",
        "df.show(5)"
      ],
      "metadata": {
        "id": "NuJeOy2v-LSN",
        "outputId": "1737e2e9-5f39-4299-ce4c-ca0ad78f209c",
        "colab": {
          "base_uri": "https://localhost:8080/"
        }
      },
      "id": "NuJeOy2v-LSN",
      "execution_count": 73,
      "outputs": [
        {
          "output_type": "stream",
          "name": "stdout",
          "text": [
            "151.0\n",
            "75.0\n",
            "141.0\n",
            "206.0\n",
            "135.0\n",
            "97.0\n",
            "138.0\n",
            "63.0\n",
            "110.0\n",
            "310.0\n",
            "+--------------------+--------------------+--------------------+--------------------+--------------------+--------------------+--------------------+--------------------+--------------------+--------------------+-----+\n",
            "|                 age|                 sex|                 bmi|                  bp|                  s1|                  s2|                  s3|                  s4|                  s5|                  s6|label|\n",
            "+--------------------+--------------------+--------------------+--------------------+--------------------+--------------------+--------------------+--------------------+--------------------+--------------------+-----+\n",
            "|0.038075906433423026| 0.05068011873981862|0.061696206518683294|  0.0218723855140367|-0.04422349842444599|-0.03482076283769895|-0.04340084565202491|-0.00259226199818...|0.019907486170462722|-0.01764612515980379|151.0|\n",
            "|-0.00188201652779...|-0.04464163650698...|-0.05147406123880...|-0.02632752814785296|-0.00844872411121...|-0.01916333974822...| 0.07441156407875721|-0.03949338287409329| -0.0683315470939731|  -0.092204049626824| 75.0|\n",
            "| 0.08529890629667548| 0.05068011873981862| 0.04445121333659049|-0.00567042229275739|-0.04559945128264711|-0.03419446591411989|-0.03235593223976409|-0.00259226199818...|0.002861309289833047|-0.02593033898947...|141.0|\n",
            "| -0.0890629393522567|-0.04464163650698...|-0.01159501450521...|-0.03665608107540074| 0.01219056876179996| 0.02499059336410222|-0.03603757004385...| 0.03430885887772673|0.022687744966501246|-0.00936191133013...|206.0|\n",
            "|0.005383060374248237|-0.04464163650698...|-0.03638469220446948|  0.0218723855140367|0.003934851612593237|0.015596139510416171|0.008142083605192267|-0.00259226199818...|-0.03198763948805312|-0.04664087356364498|135.0|\n",
            "+--------------------+--------------------+--------------------+--------------------+--------------------+--------------------+--------------------+--------------------+--------------------+--------------------+-----+\n",
            "only showing top 5 rows\n",
            "\n"
          ]
        }
      ]
    },
    {
      "cell_type": "code",
      "source": [
        "categorical_cols = [field for (field, dtype) in df.dtypes if dtype == \"string\"]\n",
        "indexers = [StringIndexer(inputCol=col, outputCol=col + \"_index\", handleInvalid='keep')\n",
        "            for col in categorical_cols]\n",
        "numeric_cols = [field for (field, dtype) in df.dtypes if ((dtype == \"double\") | (dtype == \"int\")) and field != \"label\"]\n",
        "feature_cols = numeric_cols + [col + \"_index\" for col in categorical_cols]"
      ],
      "metadata": {
        "id": "c1t0Vs_T-OUi"
      },
      "id": "c1t0Vs_T-OUi",
      "execution_count": 74,
      "outputs": []
    },
    {
      "cell_type": "code",
      "source": [
        "assembler = VectorAssembler(inputCols=feature_cols, outputCol=\"features_assembled\")\n",
        "\n",
        "# Step 5: Standardize features (optional but often useful)\n",
        "scaler = StandardScaler(inputCol=\"features_assembled\", outputCol=\"features\", withMean=True, withStd=True)\n",
        "\n",
        "# Step 6: Define Regression model\n",
        "lr = LinearRegression(featuresCol=\"features\", labelCol=\"label\")\n",
        "\n",
        "# Step 7: Build Pipeline\n",
        "pipeline = Pipeline(stages=indexers + [assembler, scaler, lr])"
      ],
      "metadata": {
        "id": "dxvfrCdGF_DI"
      },
      "id": "dxvfrCdGF_DI",
      "execution_count": 75,
      "outputs": []
    },
    {
      "cell_type": "code",
      "source": [
        "# Step 8: Train/test split\n",
        "train_df, test_df = df.randomSplit([0.8, 0.2], seed=42)\n",
        "\n",
        "# Step 9: Fit pipeline on training data\n",
        "model = pipeline.fit(train_df)\n",
        "\n",
        "# Step 10: Predict on test data\n",
        "predictions = model.transform(test_df)\n",
        "predictions.select(\"label\", \"prediction\").show(10)\n",
        "\n",
        "# Step 11: Evaluate model\n",
        "evaluator_rmse = RegressionEvaluator(labelCol=\"label\", predictionCol=\"prediction\", metricName=\"rmse\")\n",
        "evaluator_r2 = RegressionEvaluator(labelCol=\"label\", predictionCol=\"prediction\", metricName=\"r2\")\n",
        "\n",
        "rmse = evaluator_rmse.evaluate(predictions)\n",
        "r2 = evaluator_r2.evaluate(predictions)\n",
        "\n",
        "print(f\"RMSE on test data: {rmse}\")\n",
        "print(f\"R2 on test data: {r2}\")"
      ],
      "metadata": {
        "id": "cMJcmUDk9-OW",
        "outputId": "23a3bf0f-23b7-4d20-9f29-81dccd259c01",
        "colab": {
          "base_uri": "https://localhost:8080/"
        }
      },
      "id": "cMJcmUDk9-OW",
      "execution_count": 76,
      "outputs": [
        {
          "output_type": "stream",
          "name": "stdout",
          "text": [
            "+-----+------------------+\n",
            "|label|        prediction|\n",
            "+-----+------------------+\n",
            "| 55.0| 75.33250271834473|\n",
            "|200.0| 80.07849393946042|\n",
            "| 97.0| 105.9013622061565|\n",
            "| 68.0|117.81688255328869|\n",
            "|103.0|144.76522375207668|\n",
            "|310.0|215.06695024268214|\n",
            "|101.0|  95.2968361705268|\n",
            "|128.0|234.51396387075894|\n",
            "| 68.0|124.60475420943374|\n",
            "|200.0| 159.4760011427768|\n",
            "+-----+------------------+\n",
            "only showing top 10 rows\n",
            "\n",
            "RMSE on test data: 60.02384524392721\n",
            "R2 on test data: 0.35270812341282765\n"
          ]
        }
      ]
    },
    {
      "cell_type": "code",
      "source": [
        "predictions.show(5)"
      ],
      "metadata": {
        "id": "L_9qwyKNIlDh",
        "outputId": "66ae8c00-6c0b-4d9c-e13f-f44833b881e8",
        "colab": {
          "base_uri": "https://localhost:8080/"
        }
      },
      "id": "L_9qwyKNIlDh",
      "execution_count": 81,
      "outputs": [
        {
          "output_type": "stream",
          "name": "stdout",
          "text": [
            "+--------------------+--------------------+--------------------+--------------------+--------------------+--------------------+--------------------+--------------------+--------------------+--------------------+-----+--------------------+--------------------+------------------+\n",
            "|                 age|                 sex|                 bmi|                  bp|                  s1|                  s2|                  s3|                  s4|                  s5|                  s6|label|  features_assembled|            features|        prediction|\n",
            "+--------------------+--------------------+--------------------+--------------------+--------------------+--------------------+--------------------+--------------------+--------------------+--------------------+-----+--------------------+--------------------+------------------+\n",
            "|-0.09996055470531495|-0.04464163650698...|-0.06764124234701265|-0.10895595156823522|-0.07449446130487065|-0.07271172671423268| 0.01550535921336615|-0.03949338287409329|-0.04987245180879...|-0.00936191133013...| 55.0|[-0.0999605547053...|[-2.1656294103585...| 75.33250271834473|\n",
            "|-0.09632801625429555|-0.04464163650698...|-0.03638469220446948|-0.07452744180974262|-0.03871968699164...|-0.02761834821653966| 0.01550535921336615|-0.03949338287409329|-0.07409260794346935|-0.00107769750046...|200.0|[-0.0963280162542...|[-2.0876309490131...| 80.07849393946042|\n",
            "|-0.09269547780327612|-0.04464163650698...|-0.04069594049999...|-0.01944182619615...|-0.06899064987206617|-0.07928784441181291| 0.04127682384197474| -0.0763945037500033|-0.04117616691889...|-0.09634615654165846| 97.0|[-0.0926954778032...|[-2.0096324876678...| 105.9013622061565|\n",
            "|-0.08543040090123728|-0.04464163650698...|-0.00405032998804...|-0.00911327326860...|-0.00294491267841...|  0.0077674279656778|0.022868634821540033|-0.03949338287409329|-0.06117579904515...|-0.01350401824496...| 68.0|[-0.0854304009012...|[-1.8536355649772...|117.81688255328869|\n",
            "|  -0.074532785548179|-0.04464163650698...| 0.04337340126270967|-0.03321323009955148| 0.01219056876179996|2.518648827289443...| 0.06336665066649638|-0.03949338287409329|-0.02712902329694316|-0.04664087356364498|103.0|[-0.0745327855481...|[-1.6196401809412...|144.76522375207668|\n",
            "+--------------------+--------------------+--------------------+--------------------+--------------------+--------------------+--------------------+--------------------+--------------------+--------------------+-----+--------------------+--------------------+------------------+\n",
            "only showing top 5 rows\n",
            "\n"
          ]
        }
      ]
    },
    {
      "cell_type": "code",
      "source": [
        "# Stop Spark session\n",
        "spark.stop()"
      ],
      "metadata": {
        "id": "XSAyiCv2Ijrc"
      },
      "id": "XSAyiCv2Ijrc",
      "execution_count": null,
      "outputs": []
    }
  ],
  "metadata": {
    "kernelspec": {
      "display_name": "Python [conda env:Torch]",
      "language": "python",
      "name": "conda-env-Torch-py"
    },
    "language_info": {
      "codemirror_mode": {
        "name": "ipython",
        "version": 2
      },
      "file_extension": ".py",
      "mimetype": "text/x-python",
      "name": "python",
      "nbconvert_exporter": "python",
      "pygments_lexer": "ipython2",
      "version": "2.7.6"
    },
    "colab": {
      "provenance": []
    }
  },
  "nbformat": 4,
  "nbformat_minor": 5
}