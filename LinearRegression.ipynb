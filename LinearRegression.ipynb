{
 "cells": [
  {
   "cell_type": "code",
   "execution_count": 108,
   "metadata": {
    "collapsed": true,
    "ExecuteTime": {
     "end_time": "2024-09-08T16:23:50.935117600Z",
     "start_time": "2024-09-08T16:23:50.907728800Z"
    }
   },
   "outputs": [],
   "source": [
    "import pandas as pd\n",
    "from sklearn.datasets import fetch_california_housing\n",
    "from sklearn.model_selection import train_test_split\n",
    "from sklearn.linear_model import LinearRegression\n",
    "import numpy as np\n",
    "from tqdm import tqdm"
   ]
  },
  {
   "cell_type": "code",
   "execution_count": 107,
   "outputs": [
    {
     "name": "stdout",
     "output_type": "stream",
     "text": [
      "Requirement already satisfied: tqdm in c:\\users\\akbis\\appdata\\local\\programs\\python\\python310\\lib\\site-packages (4.66.4)\n",
      "Requirement already satisfied: colorama in c:\\users\\akbis\\appdata\\local\\programs\\python\\python310\\lib\\site-packages (from tqdm) (0.4.6)\n"
     ]
    },
    {
     "name": "stderr",
     "output_type": "stream",
     "text": [
      "\n",
      "[notice] A new release of pip available: 22.2.1 -> 24.2\n",
      "[notice] To update, run: python.exe -m pip install --upgrade pip\n"
     ]
    }
   ],
   "source": [
    "!pip install tqdm"
   ],
   "metadata": {
    "collapsed": false,
    "ExecuteTime": {
     "end_time": "2024-09-08T16:23:44.187298Z",
     "start_time": "2024-09-08T16:23:41.557009800Z"
    }
   }
  },
  {
   "cell_type": "code",
   "execution_count": 3,
   "outputs": [],
   "source": [
    "data = fetch_california_housing()"
   ],
   "metadata": {
    "collapsed": false,
    "ExecuteTime": {
     "end_time": "2024-09-08T10:50:48.507303700Z",
     "start_time": "2024-09-08T10:50:46.718751100Z"
    }
   }
  },
  {
   "cell_type": "code",
   "execution_count": 61,
   "outputs": [],
   "source": [
    "df = pd.DataFrame(data.data, columns=data.feature_names)\n",
    "df = df[\"HouseAge\"] # restrict to univariate\n",
    "dfy = pd.DataFrame(data.target)"
   ],
   "metadata": {
    "collapsed": false,
    "ExecuteTime": {
     "end_time": "2024-09-08T15:19:22.111198300Z",
     "start_time": "2024-09-08T15:19:22.102853500Z"
    }
   }
  },
  {
   "cell_type": "code",
   "execution_count": 91,
   "outputs": [],
   "source": [
    "X_train, X_test, y_train, y_test = train_test_split(np.array(df).reshape(-1, 1), np.array(dfy), test_size=0.1, random_state=31)"
   ],
   "metadata": {
    "collapsed": false,
    "ExecuteTime": {
     "end_time": "2024-09-08T15:58:44.961336200Z",
     "start_time": "2024-09-08T15:58:44.955144900Z"
    }
   }
  },
  {
   "cell_type": "code",
   "execution_count": 92,
   "outputs": [],
   "source": [
    "reg = LinearRegression().fit(X_train,y_train)"
   ],
   "metadata": {
    "collapsed": false,
    "ExecuteTime": {
     "end_time": "2024-09-08T15:58:46.491505500Z",
     "start_time": "2024-09-08T15:58:46.474313900Z"
    }
   }
  },
  {
   "cell_type": "code",
   "execution_count": 70,
   "outputs": [
    {
     "data": {
      "text/plain": "0.01114224064313818"
     },
     "execution_count": 70,
     "metadata": {},
     "output_type": "execute_result"
    }
   ],
   "source": [
    "reg.score(X_test,y_test)"
   ],
   "metadata": {
    "collapsed": false,
    "ExecuteTime": {
     "end_time": "2024-09-08T15:20:38.026415700Z",
     "start_time": "2024-09-08T15:20:38.014184300Z"
    }
   }
  },
  {
   "cell_type": "code",
   "execution_count": 71,
   "outputs": [
    {
     "name": "stdout",
     "output_type": "stream",
     "text": [
      "A =  [0.00963543]   B =  [1.79550011]\n"
     ]
    }
   ],
   "source": [
    "a = reg.coef_[0]\n",
    "b = reg.intercept_\n",
    "print(\"A = \", a , \" \", \"B = \", b)"
   ],
   "metadata": {
    "collapsed": false,
    "ExecuteTime": {
     "end_time": "2024-09-08T15:20:40.591833800Z",
     "start_time": "2024-09-08T15:20:40.581623500Z"
    }
   }
  },
  {
   "cell_type": "code",
   "execution_count": 111,
   "outputs": [],
   "source": [
    "def caculateDeltaA(X_train, y_train, A, B):\n",
    "    cost = 0\n",
    "\n",
    "    for i in range(0,len(X_train)):\n",
    "        cost += (A*X_train[i]+B - y_train[i])*X_train[i]\n",
    "\n",
    "    cost = cost/len(X_train)\n",
    "    return cost\n",
    "\n",
    "def caculateDeltaB(X_train, y_train, A, B):\n",
    "    cost = 0\n",
    "\n",
    "    for i in range(0,len(X_train)):\n",
    "        cost += (A*X_train[i]+B - y_train[i])\n",
    "\n",
    "    cost = cost/len(X_train)\n",
    "    return cost\n",
    "\n",
    "def LinearRegressionGradientDescent(X_train, y_train, X_test, y_test, alpha = 0.001,iterations = 100):\n",
    "    print(\"Akpha\")\n",
    "    a = 0.03336061\n",
    "    b = 0.98501134\n",
    "    model = LinearRegression()\n",
    "\n",
    "    for i in tqdm(range(iterations), desc=\"Gradient Descent Progress\"):\n",
    "        DeltaA = caculateDeltaA(X_train, y_train, a, b)\n",
    "        DeltaB = caculateDeltaB(X_train, y_train, a, b)\n",
    "        A_new = a - alpha*DeltaA\n",
    "        B_new = b - alpha*DeltaB\n",
    "\n",
    "        a = A_new\n",
    "        b = B_new\n",
    "\n",
    "\n",
    "    print(f\"a: {a}\")\n",
    "    print(f\"b: {b}\")\n",
    "\n",
    "    model.coef_ = np.array([a])  # Replace 'your_coef' with the calculated coefficient\n",
    "    model.intercept_ = b    # Replace 'your_intercept' with the calculated intercept\n",
    "\n",
    "    # Calculate and print the R-squared score on the test data\n",
    "    r2_score = model.score(X_test, y_test)\n",
    "    print(f\"R-squared score: {r2_score}\")"
   ],
   "metadata": {
    "collapsed": false,
    "ExecuteTime": {
     "end_time": "2024-09-08T16:24:17.951231700Z",
     "start_time": "2024-09-08T16:24:17.936109800Z"
    }
   }
  },
  {
   "cell_type": "code",
   "execution_count": 113,
   "outputs": [
    {
     "name": "stdout",
     "output_type": "stream",
     "text": [
      "Akpha\n"
     ]
    },
    {
     "name": "stderr",
     "output_type": "stream",
     "text": [
      "Gradient Descent Progress: 100%|██████████| 10000/10000 [19:49<00:00,  8.41it/s]"
     ]
    },
    {
     "name": "stdout",
     "output_type": "stream",
     "text": [
      "a: [0.01429697]\n",
      "b: [1.63625466]\n",
      "R-squared score: 0.009899413547840075\n"
     ]
    },
    {
     "name": "stderr",
     "output_type": "stream",
     "text": [
      "\n"
     ]
    }
   ],
   "source": [
    "LinearRegressionGradientDescent(X_train, y_train, X_test, y_test, iterations= 10000)"
   ],
   "metadata": {
    "collapsed": false,
    "ExecuteTime": {
     "end_time": "2024-09-08T16:48:57.547789600Z",
     "start_time": "2024-09-08T16:29:08.357669900Z"
    }
   }
  },
  {
   "cell_type": "code",
   "execution_count": null,
   "outputs": [],
   "source": [
    "def caculateDeltaA(X_train, y_train, A, B):\n",
    "    cost = 0\n",
    "    for i in range(len(X_train)):\n",
    "        cost += (A * X_train[i] + B - y_train[i]) * X_train[i]\n",
    "    return cost / len(X_train)\n",
    "\n",
    "def caculateDeltaB(X_train, y_train, A, B):\n",
    "    cost = 0\n",
    "    for i in range(len(X_train)):\n",
    "        cost += (A * X_train[i] + B - y_train[i])\n",
    "    return cost / len(X_train)\n",
    "\n",
    "def LinearRegressionGradientDescent(X_train, y_train, X_test, y_test, alpha=0.001, iterations=100):\n",
    "    print(\"Alpha\")\n",
    "    a = 1\n",
    "    b = 1\n",
    "    model = LinearRegression()\n",
    "\n",
    "    # Convert X_train and X_test to numpy arrays to handle them better\n",
    "    X_train = np.array(X_train)\n",
    "    y_train = np.array(y_train)\n",
    "    X_test = np.array(X_test)\n",
    "    y_test = np.array(y_test)\n",
    "\n",
    "    for i in range(iterations):\n",
    "        DeltaA = caculateDeltaA(X_train, y_train, a, b)\n",
    "        DeltaB = caculateDeltaB(X_train, y_train, a, b)  # Fixed the function call\n",
    "        A_new = a - alpha * DeltaA\n",
    "        B_new = b - alpha * DeltaB\n",
    "\n",
    "        a = A_new\n",
    "        b = B_new\n",
    "\n",
    "    print(f\"a: {a}\")\n",
    "    print(f\"b: {b}\")\n",
    "\n",
    "    # Setting the model parameters manually\n",
    "    model.coef_ = np.array([a])\n",
    "    model.intercept_ = b\n",
    "\n",
    "    # Calculate and print the R-squared score on the test data\n",
    "    r2_score = model.score(X_test.reshape(-1, 1), y_test)\n",
    "    print(f\"R-squared score: {r2_score}\")"
   ],
   "metadata": {
    "collapsed": false
   }
  }
 ],
 "metadata": {
  "kernelspec": {
   "display_name": "Python 3",
   "language": "python",
   "name": "python3"
  },
  "language_info": {
   "codemirror_mode": {
    "name": "ipython",
    "version": 2
   },
   "file_extension": ".py",
   "mimetype": "text/x-python",
   "name": "python",
   "nbconvert_exporter": "python",
   "pygments_lexer": "ipython2",
   "version": "2.7.6"
  }
 },
 "nbformat": 4,
 "nbformat_minor": 0
}
