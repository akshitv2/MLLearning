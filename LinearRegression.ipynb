{
  "nbformat": 4,
  "nbformat_minor": 0,
  "metadata": {
    "colab": {
      "provenance": []
    },
    "kernelspec": {
      "name": "python3",
      "display_name": "Python 3"
    },
    "language_info": {
      "name": "python"
    }
  },
  "cells": [
    {
      "cell_type": "code",
      "execution_count": 94,
      "metadata": {
        "id": "18mow8Ti4jLv"
      },
      "outputs": [],
      "source": [
        "import numpy as np\n",
        "from sklearn.datasets import load_iris\n",
        "from sklearn.preprocessing import LabelEncoder\n",
        "import pandas as pd\n",
        "import zipfile\n",
        "from sklearn.linear_model import LogisticRegression\n",
        "from sklearn.model_selection import train_test_split\n",
        "from sklearn.linear_model import LinearRegression\n",
        "from sklearn.metrics import mean_squared_error, r2_score\n",
        "import matplotlib.pyplot as plt\n",
        "from sklearn.preprocessing import MinMaxScaler\n",
        "import math"
      ]
    },
    {
      "cell_type": "code",
      "source": [
        "with zipfile.ZipFile(\"/content/drive/MyDrive/Datasets/LinearRegressionLearn/laptop-price-dataset.zip\", 'r') as zip_ref:\n",
        "    zip_ref.extractall(\".\")\n",
        "data = pd.read_csv(\"laptop_price - dataset.csv\")"
      ],
      "metadata": {
        "id": "962_K13c4nab"
      },
      "execution_count": 70,
      "outputs": []
    },
    {
      "cell_type": "code",
      "source": [
        "remove_columns = list(map(lambda x: data.columns[x], [1,4,7,11,9]))\n",
        "data_encode = list(map(lambda x: data.columns[x], [0,2,5,6,10,12]))\n",
        "data_norm = list(map(lambda x: data.columns[x], [3,8,13,14]))"
      ],
      "metadata": {
        "id": "dqCR2OiH4-WR"
      },
      "execution_count": 71,
      "outputs": []
    },
    {
      "cell_type": "code",
      "source": [
        "for i in range(0,len(data.columns)):\n",
        "    print(i, data.columns[i])"
      ],
      "metadata": {
        "colab": {
          "base_uri": "https://localhost:8080/"
        },
        "id": "J6iUhGyH430w",
        "outputId": "16bb4b13-4976-4b2f-caf3-cd970e5ee4ea"
      },
      "execution_count": 72,
      "outputs": [
        {
          "output_type": "stream",
          "name": "stdout",
          "text": [
            "0 Company\n",
            "1 Product\n",
            "2 TypeName\n",
            "3 Inches\n",
            "4 ScreenResolution\n",
            "5 CPU_Company\n",
            "6 CPU_Type\n",
            "7 CPU_Frequency (GHz)\n",
            "8 RAM (GB)\n",
            "9 Memory\n",
            "10 GPU_Company\n",
            "11 GPU_Type\n",
            "12 OpSys\n",
            "13 Weight (kg)\n",
            "14 Price (Euro)\n"
          ]
        }
      ]
    },
    {
      "cell_type": "code",
      "source": [
        "def encoder(column_name):\n",
        "    label_encoder = LabelEncoder()\n",
        "    categories = list(set(data[column_name]))\n",
        "    encoded_labels = label_encoder.fit_transform(categories)\n",
        "\n",
        "    print(\"Original Categories:\", categories)\n",
        "    print(\"Encoded Labels:\", encoded_labels)\n",
        "    label_mapping = dict(zip(label_encoder.classes_, range(len(label_encoder.classes_))))\n",
        "    return label_mapping"
      ],
      "metadata": {
        "id": "SR7nEkCh8ipa"
      },
      "execution_count": 73,
      "outputs": []
    },
    {
      "cell_type": "code",
      "source": [
        "encoders = {}\n",
        "for i in data_encode:\n",
        "    encoders[i] = encoder(i)\n",
        "    data[i] = data[i].apply(lambda x: encoders[i][x])"
      ],
      "metadata": {
        "colab": {
          "base_uri": "https://localhost:8080/"
        },
        "id": "Sr6s7u78G19P",
        "outputId": "10e47e73-1e13-42f8-c6cf-18cfb00dae80"
      },
      "execution_count": 74,
      "outputs": [
        {
          "output_type": "stream",
          "name": "stdout",
          "text": [
            "Original Categories: ['Huawei', 'Toshiba', 'Lenovo', 'Apple', 'Microsoft', 'Xiaomi', 'Asus', 'Chuwi', 'Samsung', 'Fujitsu', 'LG', 'Acer', 'Google', 'Vero', 'Razer', 'MSI', 'Dell', 'HP', 'Mediacom']\n",
            "Encoded Labels: [ 8 16 10  1 13 18  2  3 15  5  9  0  6 17 14 11  4  7 12]\n",
            "Original Categories: ['Notebook', 'Gaming', 'Workstation', '2 in 1 Convertible', 'Ultrabook', 'Netbook']\n",
            "Encoded Labels: [3 1 5 0 4 2]\n",
            "Original Categories: ['AMD', 'Samsung', 'Intel']\n",
            "Encoded Labels: [0 2 1]\n",
            "Original Categories: ['E-Series 6110', 'Core i7 7820HK', 'Core i5 7440HQ', 'Celeron Quad Core N3710', 'Celeron Dual Core 3855U', 'Core i5 8250U', 'Ryzen 1700', 'Core i3 7100U', 'Core i7 7500U', 'Core i7', 'Core i5 7Y57', 'Atom Z8350', 'Celeron Dual Core N3060', 'Core i5 7Y54', 'Core i5 6200U', 'Core i7 7820HQ', 'Core M 6Y30', 'Xeon E3-1505M V6', 'Core M', 'A10-Series 9600P', 'Core i7 6700HQ', 'Core i5 7500U', 'FX 9830P', 'E-Series E2-9000e', 'E-Series 9000', 'Celeron Quad Core N3450', 'Core M 6Y75', 'Core M M7-6Y75', 'Atom x5-Z8350', 'Celeron Dual Core N3050', 'Core i5 7300HQ', 'Celeron Dual Core 3205U', 'E-Series 9000e', 'Core M m3', 'Pentium Dual Core 4405U', 'Cortex A72&A53', 'Xeon E3-1535M v6', 'Core i7 6560U', 'Core i7 6500U', 'FX 8800P', 'Pentium Quad Core N3700', 'A10-Series 9620P', 'Core i5 6300U', 'Core i5', 'Core i3 7130U', 'Core i5 6440HQ', 'Core i7 8650U', 'Celeron Dual Core N3350', 'A12-Series 9700P', 'E-Series 7110', 'Core M M3-6Y30', 'Core i7 6820HK', 'A12-Series 9720P', 'Xeon E3-1535M v5', 'A8-Series 7410', 'Core i7 6600U', 'Core i7 8550U', 'Core i5 6300HQ', 'Core i7 6820HQ', 'Core M m7-6Y75', 'A9-Series 9420', 'A4-Series 7210', 'Core i7 7700HQ', 'A6-Series 9220', 'Core i7 7560U', 'Core i5 7300U', 'A10-Series A10-9620P', 'Core i7 7600U', 'A9-Series 9410', 'Core M 7Y30', 'Pentium Quad Core N4200', 'Atom x5-Z8300', 'Core i5 7200U', 'Core M m3-7Y30', 'E-Series E2-6110', 'Core i3 6100U', 'Ryzen 1600', 'Core i7 7660U', 'Celeron Quad Core N3160', 'Pentium Dual Core 4405Y', 'Atom x5-Z8550', 'E-Series E2-9000', 'Pentium Quad Core N3710', 'Pentium Dual Core N4200', 'Core M 6Y54', 'Core i7 6920HQ', 'A6-Series 7310', 'Core i7 7Y75', 'Core i5 6260U', 'A9-Series A9-9420', 'A6-Series A6-9220', 'Atom X5-Z8350', 'Core i3 6006U']\n",
            "Encoded Labels: [73 67 49 25 19 53 89 38 62 54 52 14 21 51 41 68 27 90 26  0 58 50 81 79\n",
            " 75 24 29 32 16 20 47 18 76 33 82 72 92 56 55 80 85  1 44 40 39 45 71 22\n",
            "  3 74 31 59  4 91  9 57 70 43 60 35 11  5 66  7 63 48  2 64 10 30 87 15\n",
            " 46 34 77 37 88 65 23 83 17 78 86 84 28 61  6 69 42 12  8 13 36]\n",
            "Original Categories: ['AMD', 'Nvidia', 'ARM', 'Intel']\n",
            "Encoded Labels: [0 3 1 2]\n",
            "Original Categories: ['Windows 10', 'No OS', 'Linux', 'Windows 10 S', 'Windows 7', 'macOS', 'Chrome OS', 'Mac OS X', 'Android']\n",
            "Encoded Labels: [5 4 2 6 7 8 1 3 0]\n"
          ]
        }
      ]
    },
    {
      "cell_type": "code",
      "source": [
        "scaler = MinMaxScaler()\n",
        "\n",
        "for i in data_norm:\n",
        "    normalized_data = scaler.fit_transform(data[[i]])\n",
        "    data[i] = normalized_data"
      ],
      "metadata": {
        "id": "b6mg1Dg8dqR2"
      },
      "execution_count": 75,
      "outputs": []
    },
    {
      "cell_type": "code",
      "source": [
        "for i in remove_columns:\n",
        "    data = data.drop(i, axis=1)"
      ],
      "metadata": {
        "id": "w2o7v-tig53L"
      },
      "execution_count": 76,
      "outputs": []
    },
    {
      "cell_type": "code",
      "source": [
        "y = data['Price (Euro)']\n",
        "X = data.drop('Price (Euro)', axis=1)"
      ],
      "metadata": {
        "id": "EjFOHG4zeJTk"
      },
      "execution_count": 81,
      "outputs": []
    },
    {
      "cell_type": "code",
      "source": [
        "X_train, X_test, y_train, y_test = train_test_split(X, y, test_size=0.2, random_state=42)"
      ],
      "metadata": {
        "id": "5gzf3mFff0j6"
      },
      "execution_count": 83,
      "outputs": []
    },
    {
      "cell_type": "code",
      "source": [
        "model = LinearRegression()\n",
        "# Train the model\n",
        "model.fit(X_train, y_train)\n",
        "# Make predictions\n",
        "y_pred = model.predict(X_test)\n",
        "\n",
        "mse = mean_squared_error(y_test, y_pred)\n",
        "r2 = r2_score(y_test, y_pred)\n",
        "print(f\"Mean Squared Error: {mse:.2f}\")\n",
        "print(f\"R^2 Score: {r2:.2f}\")\n",
        "print(model.coef_)\n",
        "print(model.intercept_)"
      ],
      "metadata": {
        "colab": {
          "base_uri": "https://localhost:8080/"
        },
        "id": "Y_DlopTJhtEx",
        "outputId": "b367aebb-0daf-4db1-fa44-bc9d51b7661f"
      },
      "execution_count": 86,
      "outputs": [
        {
          "output_type": "stream",
          "name": "stdout",
          "text": [
            "Mean Squared Error: 0.00\n",
            "R^2 Score: 0.67\n",
            "[ 0.00211459  0.00634265 -0.14092518  0.00237914  0.00118533  0.90320278\n",
            "  0.01146207  0.01968651  0.07002479]\n",
            "-0.08074037968808628\n"
          ]
        }
      ]
    },
    {
      "cell_type": "code",
      "source": [
        "model.predict(X_test.iloc[0].values.reshape(1,-1))"
      ],
      "metadata": {
        "colab": {
          "base_uri": "https://localhost:8080/"
        },
        "id": "vSVHRtQdh6YD",
        "outputId": "3589510d-ade0-44d3-e044-c4e96b4f9f99"
      },
      "execution_count": 87,
      "outputs": [
        {
          "output_type": "stream",
          "name": "stderr",
          "text": [
            "/usr/local/lib/python3.10/dist-packages/sklearn/base.py:493: UserWarning: X does not have valid feature names, but LinearRegression was fitted with feature names\n",
            "  warnings.warn(\n"
          ]
        },
        {
          "output_type": "execute_result",
          "data": {
            "text/plain": [
              "array([0.0805326])"
            ]
          },
          "metadata": {},
          "execution_count": 87
        }
      ]
    }
  ]
}