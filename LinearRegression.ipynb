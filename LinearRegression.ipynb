{
 "cells": [
  {
   "cell_type": "code",
   "execution_count": 3,
   "metadata": {
    "collapsed": true,
    "ExecuteTime": {
     "end_time": "2024-09-12T11:16:16.108967300Z",
     "start_time": "2024-09-12T11:16:16.092770400Z"
    }
   },
   "outputs": [],
   "source": [
    "import pandas as pd\n",
    "from sklearn.datasets import fetch_california_housing\n",
    "from sklearn.model_selection import train_test_split\n",
    "from sklearn.linear_model import LinearRegression\n",
    "from sklearn import preprocessing\n",
    "import numpy as np\n",
    "from tqdm import tqdm"
   ]
  },
  {
   "cell_type": "code",
   "execution_count": 2,
   "outputs": [],
   "source": [
    "data = fetch_california_housing()"
   ],
   "metadata": {
    "collapsed": false,
    "ExecuteTime": {
     "end_time": "2024-09-12T11:15:43.653218700Z",
     "start_time": "2024-09-12T11:15:43.623352100Z"
    }
   }
  },
  {
   "cell_type": "code",
   "execution_count": 7,
   "outputs": [],
   "source": [
    "df = pd.DataFrame(data.data, columns=data.feature_names)\n",
    "df = df[\"HouseAge\"] # restrict to univariate\n",
    "dfy = pd.DataFrame(data.target)"
   ],
   "metadata": {
    "collapsed": false,
    "ExecuteTime": {
     "end_time": "2024-09-12T11:22:43.610318100Z",
     "start_time": "2024-09-12T11:22:43.600256Z"
    }
   }
  },
  {
   "cell_type": "code",
   "execution_count": 11,
   "outputs": [],
   "source": [
    "scaler = preprocessing.StandardScaler().fit(np.array(df).reshape(-1, 1))\n",
    "X = scaler.transform(np.array(df).reshape(-1, 1))"
   ],
   "metadata": {
    "collapsed": false,
    "ExecuteTime": {
     "end_time": "2024-09-12T11:24:49.229811500Z",
     "start_time": "2024-09-12T11:24:49.215052Z"
    }
   }
  },
  {
   "cell_type": "code",
   "execution_count": 13,
   "outputs": [],
   "source": [
    "X_train, X_test, y_train, y_test = train_test_split(X, np.array(dfy), test_size=0.1, random_state=31)"
   ],
   "metadata": {
    "collapsed": false,
    "ExecuteTime": {
     "end_time": "2024-09-12T11:25:04.170499900Z",
     "start_time": "2024-09-12T11:25:03.806777200Z"
    }
   }
  },
  {
   "cell_type": "code",
   "execution_count": 14,
   "outputs": [],
   "source": [
    "reg = LinearRegression().fit(X_train,y_train)"
   ],
   "metadata": {
    "collapsed": false,
    "ExecuteTime": {
     "end_time": "2024-09-12T11:25:09.962191Z",
     "start_time": "2024-09-12T11:25:09.935414900Z"
    }
   }
  },
  {
   "cell_type": "code",
   "execution_count": 18,
   "outputs": [
    {
     "data": {
      "text/plain": "0.01114224064313818"
     },
     "execution_count": 18,
     "metadata": {},
     "output_type": "execute_result"
    }
   ],
   "source": [
    "reg.score(X_test,y_test)"
   ],
   "metadata": {
    "collapsed": false,
    "ExecuteTime": {
     "end_time": "2024-09-12T11:25:13.703450700Z",
     "start_time": "2024-09-12T11:25:13.680330Z"
    }
   }
  },
  {
   "cell_type": "code",
   "execution_count": 71,
   "outputs": [
    {
     "name": "stdout",
     "output_type": "stream",
     "text": [
      "A =  [0.00963543]   B =  [1.79550011]\n"
     ]
    }
   ],
   "source": [
    "a = reg.coef_[0]\n",
    "b = reg.intercept_\n",
    "print(\"A = \", a , \" \", \"B = \", b)"
   ],
   "metadata": {
    "collapsed": false,
    "ExecuteTime": {
     "end_time": "2024-09-08T15:20:40.591833800Z",
     "start_time": "2024-09-08T15:20:40.581623500Z"
    }
   }
  },
  {
   "cell_type": "code",
   "execution_count": 114,
   "outputs": [],
   "source": [
    "def caculateDeltaA(X_train, y_train, A, B):\n",
    "    cost = 0\n",
    "\n",
    "    cost= np.dot(A * X_train+ B - y_train, X_train)\n",
    "\n",
    "\n",
    "    # for i in range(0,len(X_train)):\n",
    "    #     cost+=\n",
    "    #     cost += (A*X_train[i]+B - y_train[i])*X_train[i]\n",
    "\n",
    "    cost = cost/len(X_train)\n",
    "    return cost\n",
    "\n",
    "def caculateDeltaB(X_train, y_train, A, B):\n",
    "    cost = 0\n",
    "\n",
    "    for i in range(0,len(X_train)):\n",
    "        cost += (A*X_train[i]+B - y_train[i])\n",
    "\n",
    "    cost = cost/len(X_train)\n",
    "    return cost\n",
    "\n",
    "def LinearRegressionGradientDescent(X_train, y_train, X_test, y_test, alpha = 0.001,iterations = 100):\n",
    "    print(\"Akpha\")\n",
    "    a = 0.03336061\n",
    "    b = 0.98501134\n",
    "    model = LinearRegression()\n",
    "\n",
    "    for i in tqdm(range(iterations), desc=\"Gradient Descent Progress\"):\n",
    "        DeltaA = caculateDeltaA(X_train, y_train, a, b)\n",
    "        DeltaB = caculateDeltaB(X_train, y_train, a, b)\n",
    "        A_new = a - alpha*DeltaA\n",
    "        B_new = b - alpha*DeltaB\n",
    "\n",
    "        a = A_new\n",
    "        b = B_new\n",
    "\n",
    "\n",
    "    print(f\"a: {a}\")\n",
    "    print(f\"b: {b}\")\n",
    "\n",
    "    model.coef_ = np.array([a])  # Replace 'your_coef' with the calculated coefficient\n",
    "    model.intercept_ = b    # Replace 'your_intercept' with the calculated intercept\n",
    "\n",
    "    # Calculate and print the R-squared score on the test data\n",
    "    r2_score = model.score(X_test, y_test)\n",
    "    print(f\"R-squared score: {r2_score}\")"
   ],
   "metadata": {
    "collapsed": false,
    "ExecuteTime": {
     "end_time": "2024-09-10T01:41:18.239711Z",
     "start_time": "2024-09-10T01:41:18.209324100Z"
    }
   }
  },
  {
   "cell_type": "code",
   "execution_count": 22,
   "outputs": [],
   "source": [
    "def compute_gradients(X_train, y_train, A, B):\n",
    "    m = len(y_train)  # Number of training examples\n",
    "    predictions = A * X_train + B  # Vectorized prediction (A*X + B)\n",
    "    errors = predictions - y_train  # Vectorized error (y_pred - y_true)\n",
    "\n",
    "    DeltaA = (1/m) * np.dot(errors, X_train)  # Gradient w.r.t. A\n",
    "    DeltaB = (1/m) * np.sum(errors)  # Gradient w.r.t. B (sum of errors)\n",
    "\n",
    "    return DeltaA, DeltaB\n",
    "\n",
    "def LinearRegressionGradientDescent(X_train, y_train, X_test, y_test, alpha=0.01, iterations=100):\n",
    "    print(\"Alpha\")\n",
    "    a = 1\n",
    "    b = 1\n",
    "    model = LinearRegression()\n",
    "\n",
    "    # Convert to numpy arrays if not already\n",
    "    X_train = np.array(X_train)\n",
    "    y_train = np.array(y_train)\n",
    "    X_test = np.array(X_test)\n",
    "    y_test = np.array(y_test)\n",
    "\n",
    "    # Progress bar added with tqdm\n",
    "    for i in tqdm(range(iterations), desc=\"Gradient Descent Progress\"):\n",
    "        # Compute gradients in a vectorized manner\n",
    "        DeltaA, DeltaB = compute_gradients(X_train, y_train, a, b)\n",
    "\n",
    "        # Update parameters\n",
    "        a -= alpha * DeltaA\n",
    "        b -= alpha * DeltaB\n",
    "\n",
    "    print(f\"a: {a}\")\n",
    "    print(f\"b: {b}\")\n",
    "\n",
    "    # Setting the model parameters manually\n",
    "    model.coef_ = np.array([a])\n",
    "    model.intercept_ = b\n",
    "\n",
    "    # Calculate and print the R-squared score on the test data\n",
    "    r2_score = model.score(X_test.reshape(-1, 1), y_test)\n",
    "    print(f\"R-squared score: {r2_score}\")"
   ],
   "metadata": {
    "collapsed": false,
    "ExecuteTime": {
     "end_time": "2024-09-12T11:26:44.878895700Z",
     "start_time": "2024-09-12T11:26:44.861638Z"
    }
   }
  },
  {
   "cell_type": "code",
   "execution_count": 23,
   "outputs": [
    {
     "name": "stdout",
     "output_type": "stream",
     "text": [
      "Alpha\n"
     ]
    },
    {
     "name": "stderr",
     "output_type": "stream",
     "text": [
      "Gradient Descent Progress: 100%|██████████| 100000/100000 [00:13<00:00, 7379.22it/s]"
     ]
    },
    {
     "name": "stdout",
     "output_type": "stream",
     "text": [
      "a: 0.12126427479557278\n",
      "b: 2.0714537696719177\n",
      "R-squared score: 0.011142240643139067\n"
     ]
    },
    {
     "name": "stderr",
     "output_type": "stream",
     "text": [
      "\n"
     ]
    }
   ],
   "source": [
    "LinearRegressionGradientDescent(X_train.ravel(), y_train.ravel(), X_test, y_test, iterations= 100000)"
   ],
   "metadata": {
    "collapsed": false,
    "ExecuteTime": {
     "end_time": "2024-09-12T11:26:59.829482600Z",
     "start_time": "2024-09-12T11:26:46.240601900Z"
    }
   }
  },
  {
   "cell_type": "code",
   "execution_count": null,
   "outputs": [],
   "source": [],
   "metadata": {
    "collapsed": false
   }
  }
 ],
 "metadata": {
  "kernelspec": {
   "display_name": "Python 3",
   "language": "python",
   "name": "python3"
  },
  "language_info": {
   "codemirror_mode": {
    "name": "ipython",
    "version": 2
   },
   "file_extension": ".py",
   "mimetype": "text/x-python",
   "name": "python",
   "nbconvert_exporter": "python",
   "pygments_lexer": "ipython2",
   "version": "2.7.6"
  }
 },
 "nbformat": 4,
 "nbformat_minor": 0
}
