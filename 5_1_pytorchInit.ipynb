{
  "cells": [
    {
      "cell_type": "code",
      "execution_count": 1,
      "id": "initial_id",
      "metadata": {
        "collapsed": true,
        "id": "initial_id"
      },
      "outputs": [],
      "source": [
        "import torch\n",
        "import torch.nn as nn\n",
        "import torch.optim as optim\n",
        "from sklearn.datasets import fetch_california_housing\n",
        "from sklearn.model_selection import train_test_split\n",
        "from sklearn.preprocessing import StandardScaler"
      ]
    },
    {
      "cell_type": "code",
      "source": [
        "# 1. Load dataset\n",
        "data = fetch_california_housing()\n",
        "X, y = data.data, data.target\n",
        "\n",
        "# 2. Train-test split\n",
        "X_train, X_test, y_train, y_test = train_test_split(\n",
        "    X, y, test_size=0.2, random_state=42\n",
        ")\n",
        "\n",
        "# 3. Standardize features\n",
        "scaler = StandardScaler()\n",
        "X_train = scaler.fit_transform(X_train)\n",
        "X_test = scaler.transform(X_test)"
      ],
      "metadata": {
        "id": "i7hp49vor3Xu"
      },
      "id": "i7hp49vor3Xu",
      "execution_count": 2,
      "outputs": []
    },
    {
      "cell_type": "code",
      "source": [
        "X_train.shape\n",
        "print(max([i for i in X_train[0]]),min([i for i in X_train[0]]))"
      ],
      "metadata": {
        "id": "qxhYc0DTr4YD",
        "outputId": "1ffa1923-8c44-4795-e092-b96a1da21cde",
        "colab": {
          "base_uri": "https://localhost:8080/"
        }
      },
      "id": "qxhYc0DTr4YD",
      "execution_count": 9,
      "outputs": [
        {
          "output_type": "stream",
          "name": "stdout",
          "text": [
            "1.2725865624711816 -1.3728111990668923\n"
          ]
        }
      ]
    },
    {
      "cell_type": "code",
      "source": [
        "y[0]"
      ],
      "metadata": {
        "id": "jOB-5AnDvZT9",
        "outputId": "5ca19559-23c6-477b-b0fd-414e09a70f8d",
        "colab": {
          "base_uri": "https://localhost:8080/"
        }
      },
      "id": "jOB-5AnDvZT9",
      "execution_count": 12,
      "outputs": [
        {
          "output_type": "execute_result",
          "data": {
            "text/plain": [
              "np.float64(4.526)"
            ]
          },
          "metadata": {},
          "execution_count": 12
        }
      ]
    },
    {
      "cell_type": "code",
      "source": [
        "# 4. Convert to PyTorch tensors\n",
        "X_train_tensor = torch.tensor(X_train, dtype=torch.float32)\n",
        "y_train_tensor = torch.tensor(y_train, dtype=torch.float32).view(-1, 1)\n",
        "X_test_tensor = torch.tensor(X_test, dtype=torch.float32)\n",
        "y_test_tensor = torch.tensor(y_test, dtype=torch.float32).view(-1, 1)\n",
        "\n",
        "# 5. Define linear regression model\n",
        "class LinearRegressionModel(nn.Module):\n",
        "    def __init__(self, in_features):\n",
        "        super(LinearRegressionModel, self).__init__()\n",
        "        self.network = nn.Sequential(\n",
        "            nn.Linear(in_features, 64),\n",
        "            nn.ReLU(),\n",
        "            nn.Linear(64, 32),\n",
        "            nn.ReLU(),\n",
        "            nn.Linear(32, 16),\n",
        "            nn.ReLU(),\n",
        "            nn.Linear(16, 1)  # Output layer\n",
        "        )\n",
        "\n",
        "    def forward(self, x):\n",
        "        return self.network(x)\n",
        "\n",
        "model = LinearRegressionModel(X_train.shape[1])\n",
        "\n",
        "\n",
        "# 6. Loss function and optimizer\n",
        "criterion = nn.MSELoss()\n",
        "optimizer = optim.SGD(model.parameters(), lr=0.01)\n",
        "\n",
        "# 7. Training loop\n",
        "epochs = 1000\n",
        "for epoch in range(epochs):\n",
        "    # Forward pass\n",
        "    outputs = model(X_train_tensor)\n",
        "    loss = criterion(outputs, y_train_tensor)\n",
        "    rmse_loss = torch.sqrt(loss)\n",
        "\n",
        "    # Backward pass\n",
        "    optimizer.zero_grad()\n",
        "    loss.backward()\n",
        "    optimizer.step()\n",
        "\n",
        "    if (epoch+1) % 100 == 0:\n",
        "        print(f\"Epoch [{epoch+1}/{epochs}], Loss: {rmse_loss.item():.4f}\")\n",
        "\n",
        "# 8. Evaluation\n",
        "model.eval()\n",
        "with torch.no_grad():\n",
        "    y_pred = model(X_test_tensor)\n",
        "    test_loss = criterion(y_pred, y_test_tensor)\n",
        "    print(f\"\\nTest MSE: {test_loss.item():.4f}\")"
      ],
      "metadata": {
        "id": "5y_Rw2Qarnsa",
        "outputId": "2942f81d-9865-414c-e284-19eca449ad12",
        "colab": {
          "base_uri": "https://localhost:8080/"
        }
      },
      "id": "5y_Rw2Qarnsa",
      "execution_count": 15,
      "outputs": [
        {
          "output_type": "stream",
          "name": "stdout",
          "text": [
            "Epoch [100/1000], Loss: 0.8930\n",
            "Epoch [200/1000], Loss: 0.8016\n",
            "Epoch [300/1000], Loss: 0.7659\n",
            "Epoch [400/1000], Loss: 0.7363\n",
            "Epoch [500/1000], Loss: 0.7118\n",
            "Epoch [600/1000], Loss: 0.6930\n",
            "Epoch [700/1000], Loss: 0.6793\n",
            "Epoch [800/1000], Loss: 0.6694\n",
            "Epoch [900/1000], Loss: 0.6617\n",
            "Epoch [1000/1000], Loss: 0.6553\n",
            "\n",
            "Test MSE: 0.4513\n"
          ]
        }
      ]
    },
    {
      "cell_type": "code",
      "source": [
        "sqrt(test_loss.item())"
      ],
      "metadata": {
        "id": "Zg_Duj0TvigC",
        "outputId": "65457596-46a9-4ab8-af3c-2bcfa968af8e",
        "colab": {
          "base_uri": "https://localhost:8080/",
          "height": 148
        }
      },
      "id": "Zg_Duj0TvigC",
      "execution_count": 14,
      "outputs": [
        {
          "output_type": "error",
          "ename": "NameError",
          "evalue": "name 'sqrt' is not defined",
          "traceback": [
            "\u001b[0;31m---------------------------------------------------------------------------\u001b[0m",
            "\u001b[0;31mNameError\u001b[0m                                 Traceback (most recent call last)",
            "\u001b[0;32m/tmp/ipython-input-958829118.py\u001b[0m in \u001b[0;36m<cell line: 0>\u001b[0;34m()\u001b[0m\n\u001b[0;32m----> 1\u001b[0;31m \u001b[0msqrt\u001b[0m\u001b[0;34m(\u001b[0m\u001b[0mtest_loss\u001b[0m\u001b[0;34m.\u001b[0m\u001b[0mitem\u001b[0m\u001b[0;34m(\u001b[0m\u001b[0;34m)\u001b[0m\u001b[0;34m)\u001b[0m\u001b[0;34m\u001b[0m\u001b[0;34m\u001b[0m\u001b[0m\n\u001b[0m",
            "\u001b[0;31mNameError\u001b[0m: name 'sqrt' is not defined"
          ]
        }
      ]
    }
  ],
  "metadata": {
    "kernelspec": {
      "display_name": "Python 3",
      "language": "python",
      "name": "python3"
    },
    "language_info": {
      "codemirror_mode": {
        "name": "ipython",
        "version": 2
      },
      "file_extension": ".py",
      "mimetype": "text/x-python",
      "name": "python",
      "nbconvert_exporter": "python",
      "pygments_lexer": "ipython2",
      "version": "2.7.6"
    },
    "colab": {
      "provenance": []
    }
  },
  "nbformat": 4,
  "nbformat_minor": 5
}