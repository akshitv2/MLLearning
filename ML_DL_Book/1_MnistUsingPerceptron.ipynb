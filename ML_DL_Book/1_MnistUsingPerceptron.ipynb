{
 "cells": [
  {
   "metadata": {},
   "cell_type": "code",
   "outputs": [],
   "execution_count": null,
   "source": "",
   "id": "78ec3f3dd2c75b05"
  }
 ],
 "metadata": {},
 "nbformat": 4,
 "nbformat_minor": 5
}
