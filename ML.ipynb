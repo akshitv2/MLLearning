{
  "cells": [
    {
      "cell_type": "code",
      "execution_count": 10,
      "metadata": {},
      "outputs": [],
      "source": [
        "import numpy as np\n",
        "\n",
        "# Generate a simple dataset\n",
        "# Features (X) and Targets (y) with a linear relationship\n",
        "np.random.seed(42)\n",
        "X = 2 * np.random.rand(100, 1)\n",
        "y = 4 + 3 * X + np.random.randn(100, 1)  # y = 4 + 3X + noise"
      ]
    },
    {
      "cell_type": "code",
      "execution_count": 30,
      "metadata": {
        "colab": {
          "base_uri": "https://localhost:8080/"
        },
        "id": "hOBwTNN_3oeS",
        "outputId": "876a10be-096d-4239-9e7b-9d13d0f64242"
      },
      "outputs": [],
      "source": [
        "# Define a simple linear model\n",
        "def model(X, theta):\n",
        "    return X @ theta\n",
        "\n",
        "# Define Mean Squared Error (MSE) loss function\n",
        "def mse_loss(y_true, y_pred):\n",
        "    return np.mean((y_true - y_pred) ** 2)\n",
        "\n",
        "def mal_loss(y_true, y_pred):\n",
        "    return np.mean(np.abs(y_true - y_pred))\n",
        "\n",
        "\n"
      ]
    },
    {
      "cell_type": "code",
      "execution_count": 12,
      "metadata": {},
      "outputs": [
        {
          "name": "stdout",
          "output_type": "stream",
          "text": [
            "Predicted values: [1.10181554 2.77679318 2.14095817 1.75334291 0.46655871]\n",
            "Actual values: [6.33428778 9.40527849 8.48372443 5.60438199 4.71643995]\n",
            "Loss: 31.009348571941214\n"
          ]
        }
      ],
      "source": [
        "# Example usage\n",
        "# Initial guess for theta (weights)\n",
        "theta = np.random.randn(2, 1)\n",
        "\n",
        "# Add bias term (X_0 = 1) to the features\n",
        "X_b = np.c_[np.ones((100, 1)), X]\n",
        "\n",
        "# Predict using the model\n",
        "y_pred = model(X_b, theta)"
      ]
    },
    {
      "cell_type": "code",
      "execution_count": 31,
      "metadata": {},
      "outputs": [
        {
          "name": "stdout",
          "output_type": "stream",
          "text": [
            "Predicted values: [1.10181554 2.77679318 2.14095817 1.75334291 0.46655871]\n",
            "Actual values: [6.33428778 9.40527849 8.48372443 5.60438199 4.71643995]\n",
            "Loss: 31.009348571941214\n",
            "Loss: 5.440154742377218\n"
          ]
        }
      ],
      "source": [
        "print(f\"Predicted values: {y_pred[:5].flatten()}\")\n",
        "print(f\"Actual values: {y[:5].flatten()}\")\n",
        "print(f\"Loss: {mse_loss(y, y_pred)}\")\n",
        "print(f\"Loss: {mal_loss(y, y_pred)}\")"
      ]
    }
  ],
  "metadata": {
    "colab": {
      "provenance": []
    },
    "kernelspec": {
      "display_name": "Python 3",
      "name": "python3"
    },
    "language_info": {
      "codemirror_mode": {
        "name": "ipython",
        "version": 3
      },
      "file_extension": ".py",
      "mimetype": "text/x-python",
      "name": "python",
      "nbconvert_exporter": "python",
      "pygments_lexer": "ipython3",
      "version": "3.10.6"
    }
  },
  "nbformat": 4,
  "nbformat_minor": 0
}
