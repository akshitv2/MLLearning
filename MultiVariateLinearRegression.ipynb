{
 "cells": [
  {
   "cell_type": "code",
   "execution_count": 1,
   "metadata": {
    "collapsed": true,
    "ExecuteTime": {
     "end_time": "2024-09-12T11:28:04.436080800Z",
     "start_time": "2024-09-12T11:28:03.323405400Z"
    }
   },
   "outputs": [],
   "source": [
    "import pandas as pd\n",
    "from sklearn.datasets import fetch_california_housing\n",
    "from sklearn.model_selection import train_test_split\n",
    "from sklearn.linear_model import LinearRegression\n",
    "from sklearn import preprocessing\n",
    "import numpy as np\n",
    "from tqdm import tqdm"
   ]
  },
  {
   "cell_type": "code",
   "execution_count": 2,
   "outputs": [],
   "source": [
    "data = fetch_california_housing()"
   ],
   "metadata": {
    "collapsed": false,
    "ExecuteTime": {
     "end_time": "2024-09-12T11:28:04.451014400Z",
     "start_time": "2024-09-12T11:28:04.438110700Z"
    }
   }
  },
  {
   "cell_type": "code",
   "execution_count": 3,
   "outputs": [],
   "source": [
    "df = pd.DataFrame(data.data, columns=data.feature_names)\n",
    "dfy = pd.DataFrame(data.target)"
   ],
   "metadata": {
    "collapsed": false,
    "ExecuteTime": {
     "end_time": "2024-09-12T11:32:38.903852600Z",
     "start_time": "2024-09-12T11:32:38.896749300Z"
    }
   }
  },
  {
   "cell_type": "code",
   "execution_count": 8,
   "outputs": [],
   "source": [
    "scaler = preprocessing.StandardScaler()\n",
    "# Apply the scaler to each column in the DataFrame\n",
    "scaled_data = scaler.fit_transform(df)\n",
    "scaled_df = pd.DataFrame(scaled_data, columns=df.columns)"
   ],
   "metadata": {
    "collapsed": false,
    "ExecuteTime": {
     "end_time": "2024-09-12T11:34:15.802272500Z",
     "start_time": "2024-09-12T11:34:15.783294900Z"
    }
   }
  },
  {
   "cell_type": "code",
   "execution_count": 9,
   "outputs": [
    {
     "data": {
      "text/plain": "         MedInc  HouseAge  AveRooms  AveBedrms  Population  AveOccup  \\\n0      2.344766  0.982143  0.628559  -0.153758   -0.974429 -0.049597   \n1      2.332238 -0.607019  0.327041  -0.263336    0.861439 -0.092512   \n2      1.782699  1.856182  1.155620  -0.049016   -0.820777 -0.025843   \n3      0.932968  1.856182  0.156966  -0.049833   -0.766028 -0.050329   \n4     -0.012881  1.856182  0.344711  -0.032906   -0.759847 -0.085616   \n...         ...       ...       ...        ...         ...       ...   \n20635 -1.216128 -0.289187 -0.155023   0.077354   -0.512592 -0.049110   \n20636 -0.691593 -0.845393  0.276881   0.462365   -0.944405  0.005021   \n20637 -1.142593 -0.924851 -0.090318   0.049414   -0.369537 -0.071735   \n20638 -1.054583 -0.845393 -0.040211   0.158778   -0.604429 -0.091225   \n20639 -0.780129 -1.004309 -0.070443   0.138403   -0.033977 -0.043682   \n\n       Latitude  Longitude  \n0      1.052548  -1.327835  \n1      1.043185  -1.322844  \n2      1.038503  -1.332827  \n3      1.038503  -1.337818  \n4      1.038503  -1.337818  \n...         ...        ...  \n20635  1.801647  -0.758826  \n20636  1.806329  -0.818722  \n20637  1.778237  -0.823713  \n20638  1.778237  -0.873626  \n20639  1.750146  -0.833696  \n\n[20640 rows x 8 columns]",
      "text/html": "<div>\n<style scoped>\n    .dataframe tbody tr th:only-of-type {\n        vertical-align: middle;\n    }\n\n    .dataframe tbody tr th {\n        vertical-align: top;\n    }\n\n    .dataframe thead th {\n        text-align: right;\n    }\n</style>\n<table border=\"1\" class=\"dataframe\">\n  <thead>\n    <tr style=\"text-align: right;\">\n      <th></th>\n      <th>MedInc</th>\n      <th>HouseAge</th>\n      <th>AveRooms</th>\n      <th>AveBedrms</th>\n      <th>Population</th>\n      <th>AveOccup</th>\n      <th>Latitude</th>\n      <th>Longitude</th>\n    </tr>\n  </thead>\n  <tbody>\n    <tr>\n      <th>0</th>\n      <td>2.344766</td>\n      <td>0.982143</td>\n      <td>0.628559</td>\n      <td>-0.153758</td>\n      <td>-0.974429</td>\n      <td>-0.049597</td>\n      <td>1.052548</td>\n      <td>-1.327835</td>\n    </tr>\n    <tr>\n      <th>1</th>\n      <td>2.332238</td>\n      <td>-0.607019</td>\n      <td>0.327041</td>\n      <td>-0.263336</td>\n      <td>0.861439</td>\n      <td>-0.092512</td>\n      <td>1.043185</td>\n      <td>-1.322844</td>\n    </tr>\n    <tr>\n      <th>2</th>\n      <td>1.782699</td>\n      <td>1.856182</td>\n      <td>1.155620</td>\n      <td>-0.049016</td>\n      <td>-0.820777</td>\n      <td>-0.025843</td>\n      <td>1.038503</td>\n      <td>-1.332827</td>\n    </tr>\n    <tr>\n      <th>3</th>\n      <td>0.932968</td>\n      <td>1.856182</td>\n      <td>0.156966</td>\n      <td>-0.049833</td>\n      <td>-0.766028</td>\n      <td>-0.050329</td>\n      <td>1.038503</td>\n      <td>-1.337818</td>\n    </tr>\n    <tr>\n      <th>4</th>\n      <td>-0.012881</td>\n      <td>1.856182</td>\n      <td>0.344711</td>\n      <td>-0.032906</td>\n      <td>-0.759847</td>\n      <td>-0.085616</td>\n      <td>1.038503</td>\n      <td>-1.337818</td>\n    </tr>\n    <tr>\n      <th>...</th>\n      <td>...</td>\n      <td>...</td>\n      <td>...</td>\n      <td>...</td>\n      <td>...</td>\n      <td>...</td>\n      <td>...</td>\n      <td>...</td>\n    </tr>\n    <tr>\n      <th>20635</th>\n      <td>-1.216128</td>\n      <td>-0.289187</td>\n      <td>-0.155023</td>\n      <td>0.077354</td>\n      <td>-0.512592</td>\n      <td>-0.049110</td>\n      <td>1.801647</td>\n      <td>-0.758826</td>\n    </tr>\n    <tr>\n      <th>20636</th>\n      <td>-0.691593</td>\n      <td>-0.845393</td>\n      <td>0.276881</td>\n      <td>0.462365</td>\n      <td>-0.944405</td>\n      <td>0.005021</td>\n      <td>1.806329</td>\n      <td>-0.818722</td>\n    </tr>\n    <tr>\n      <th>20637</th>\n      <td>-1.142593</td>\n      <td>-0.924851</td>\n      <td>-0.090318</td>\n      <td>0.049414</td>\n      <td>-0.369537</td>\n      <td>-0.071735</td>\n      <td>1.778237</td>\n      <td>-0.823713</td>\n    </tr>\n    <tr>\n      <th>20638</th>\n      <td>-1.054583</td>\n      <td>-0.845393</td>\n      <td>-0.040211</td>\n      <td>0.158778</td>\n      <td>-0.604429</td>\n      <td>-0.091225</td>\n      <td>1.778237</td>\n      <td>-0.873626</td>\n    </tr>\n    <tr>\n      <th>20639</th>\n      <td>-0.780129</td>\n      <td>-1.004309</td>\n      <td>-0.070443</td>\n      <td>0.138403</td>\n      <td>-0.033977</td>\n      <td>-0.043682</td>\n      <td>1.750146</td>\n      <td>-0.833696</td>\n    </tr>\n  </tbody>\n</table>\n<p>20640 rows × 8 columns</p>\n</div>"
     },
     "execution_count": 9,
     "metadata": {},
     "output_type": "execute_result"
    }
   ],
   "source": [
    "scaled_df"
   ],
   "metadata": {
    "collapsed": false,
    "ExecuteTime": {
     "end_time": "2024-09-12T11:34:23.825663500Z",
     "start_time": "2024-09-12T11:34:23.802967400Z"
    }
   }
  },
  {
   "cell_type": "code",
   "execution_count": 17,
   "outputs": [
    {
     "data": {
      "text/plain": "0.6212829574813996"
     },
     "execution_count": 17,
     "metadata": {},
     "output_type": "execute_result"
    }
   ],
   "source": [
    "X_train, X_test, y_train, y_test = train_test_split(df, np.array(dfy), test_size=0.1, random_state=31)\n",
    "reg = LinearRegression().fit(X_train,y_train)\n",
    "reg.score(X_test,y_test)"
   ],
   "metadata": {
    "collapsed": false,
    "ExecuteTime": {
     "end_time": "2024-09-12T11:35:22.177663600Z",
     "start_time": "2024-09-12T11:35:22.151888800Z"
    }
   }
  },
  {
   "cell_type": "code",
   "execution_count": 15,
   "outputs": [
    {
     "data": {
      "text/plain": "0.6212829574813995"
     },
     "execution_count": 15,
     "metadata": {},
     "output_type": "execute_result"
    }
   ],
   "source": [
    "X_train, X_test, y_train, y_test = train_test_split(scaled_df, np.array(dfy), test_size=0.1, random_state=31)\n",
    "reg = LinearRegression().fit(X_train,y_train)\n",
    "reg.score(X_test,y_test)"
   ],
   "metadata": {
    "collapsed": false,
    "ExecuteTime": {
     "end_time": "2024-09-12T11:35:19.545967Z",
     "start_time": "2024-09-12T11:35:19.520360200Z"
    }
   }
  }
 ],
 "metadata": {
  "kernelspec": {
   "display_name": "Python 3",
   "language": "python",
   "name": "python3"
  },
  "language_info": {
   "codemirror_mode": {
    "name": "ipython",
    "version": 2
   },
   "file_extension": ".py",
   "mimetype": "text/x-python",
   "name": "python",
   "nbconvert_exporter": "python",
   "pygments_lexer": "ipython2",
   "version": "2.7.6"
  }
 },
 "nbformat": 4,
 "nbformat_minor": 0
}
