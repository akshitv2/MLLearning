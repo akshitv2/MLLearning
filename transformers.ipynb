{
  "cells": [
    {
      "cell_type": "code",
      "source": [
        "#code by arminnorouzi\n",
        "import logging\n",
        "import time\n",
        "\n",
        "import numpy as np\n",
        "import matplotlib.pyplot as plt\n",
        "\n",
        "import tensorflow_datasets as tfds\n",
        "import tensorflow as tf\n",
        "\n",
        "import tensorflow_text"
      ],
      "metadata": {
        "id": "iVc67fe7exSn"
      },
      "id": "iVc67fe7exSn",
      "execution_count": 1,
      "outputs": []
    },
    {
      "cell_type": "code",
      "source": [
        "import kagglehub\n",
        "# Download latest version\n",
        "path = kagglehub.dataset_download(\"kaushal2896/english-to-german\")\n",
        "print(\"Path to dataset files:\", path)"
      ],
      "metadata": {
        "id": "bMDhdkYPT-D-",
        "outputId": "fc3d0d84-d289-4ab8-8584-86e4adb76089",
        "colab": {
          "base_uri": "https://localhost:8080/"
        }
      },
      "id": "bMDhdkYPT-D-",
      "execution_count": 13,
      "outputs": [
        {
          "output_type": "stream",
          "name": "stdout",
          "text": [
            "Path to dataset files: /kaggle/input/english-to-german\n"
          ]
        }
      ]
    },
    {
      "cell_type": "code",
      "source": [
        "eng_due_ds = tf.data.TextLineDataset(path + \"/deu.txt\")\\\n",
        ".map(lambda line: (tf.strings.split(line, '\\t')[0],tf.strings.split(line, '\\t')[1]))\\\n",
        ".shuffle(10000).prefetch(tf.data.AUTOTUNE)"
      ],
      "metadata": {
        "id": "CzdYDglKUrI8"
      },
      "id": "CzdYDglKUrI8",
      "execution_count": 75,
      "outputs": []
    },
    {
      "cell_type": "code",
      "source": [
        "dataset_size = eng_due_ds.cardinality().numpy()\n",
        "\n",
        "# Now, you can use dataset_size to split the dataset.\n",
        "train_size = int(0.8 * dataset_size)\n",
        "\n",
        "train_dataset = eng_due_ds.take(train_size)\n",
        "val_dataset = eng_due_ds.skip(train_size)"
      ],
      "metadata": {
        "id": "FxkLdO-wfQCC"
      },
      "id": "FxkLdO-wfQCC",
      "execution_count": 76,
      "outputs": []
    },
    {
      "cell_type": "code",
      "source": [
        "tokenizer = tensorflow_text.UnicodeScriptTokenizer()\n",
        "for eng,due in train_dataset.batch(3).take(1):\n",
        "    for eng_eg in eng.numpy():\n",
        "        print(eng_eg.decode('utf-8'))\n",
        "        print(tokenizer.tokenize(eng_eg.decode('utf-8')))"
      ],
      "metadata": {
        "id": "134xpXDkf4O-",
        "outputId": "3c49ff5c-db05-4a3e-cab1-fc8e82f02ca2",
        "colab": {
          "base_uri": "https://localhost:8080/"
        }
      },
      "id": "134xpXDkf4O-",
      "execution_count": 89,
      "outputs": [
        {
          "output_type": "stream",
          "name": "stdout",
          "text": [
            "We apologize.\n",
            "tf.Tensor([b'We' b'apologize' b'.'], shape=(3,), dtype=string)\n",
            "That's cool.\n",
            "tf.Tensor([b'That' b\"'\" b's' b'cool' b'.'], shape=(5,), dtype=string)\n",
            "I kissed Tom.\n",
            "tf.Tensor([b'I' b'kissed' b'Tom' b'.'], shape=(4,), dtype=string)\n"
          ]
        }
      ]
    },
    {
      "cell_type": "code",
      "source": [
        "tokens = tokenizer.tokenize([\"What you know you can't explain, but you feel it.\"])\n",
        "print(tokens.to_list())"
      ],
      "metadata": {
        "id": "7YVCHEgxhjGU",
        "outputId": "4e3a1a16-6909-4e9f-8a3a-e199242945d6",
        "colab": {
          "base_uri": "https://localhost:8080/"
        }
      },
      "id": "7YVCHEgxhjGU",
      "execution_count": 87,
      "outputs": [
        {
          "output_type": "stream",
          "name": "stdout",
          "text": [
            "[[b'What', b'you', b'know', b'you', b'can', b\"'\", b't', b'explain', b',', b'but', b'you', b'feel', b'it', b'.']]\n"
          ]
        }
      ]
    }
  ],
  "metadata": {
    "kernelspec": {
      "display_name": "Python 3",
      "name": "python3"
    },
    "language_info": {
      "codemirror_mode": {
        "name": "ipython",
        "version": 3
      },
      "file_extension": ".py",
      "mimetype": "text/x-python",
      "name": "python",
      "nbconvert_exporter": "python",
      "pygments_lexer": "ipython3",
      "version": "3.10.13"
    },
    "colab": {
      "provenance": []
    }
  },
  "nbformat": 4,
  "nbformat_minor": 5
}